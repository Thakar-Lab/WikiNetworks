{
 "cells": [
  {
   "cell_type": "markdown",
   "metadata": {},
   "source": [
    "# <font color='red'>WikiNetworks tutorial</font> \n",
    "\n",
    "This tutorial demonstrates the use of the WikiNetworks package to download and process pathway representations from WikiPathways database into machine-readable networks that can be used with visualization software or in downstream programming applications\n",
    "\n",
    "*Author: Mukta Palshikar, mukta_palshikar@urmc.rochester.edu*"
   ]
  },
  {
   "cell_type": "markdown",
   "metadata": {},
   "source": [
    "### <font color='red'>Install WikiNetworks</font>  \n",
    "\n",
    "**WikiNetworks requires Python 3.6 or newer.**\n",
    "\n",
    "With pip:\n",
    "\n",
    "    pip install --upgrade wikinetworks"
   ]
  },
  {
   "cell_type": "markdown",
   "metadata": {},
   "source": [
    "### <font color='red'>Import all functions from wikinetworks</font>   "
   ]
  },
  {
   "cell_type": "code",
   "execution_count": 2,
   "metadata": {},
   "outputs": [],
   "source": [
    "from wikinetworks import *"
   ]
  },
  {
   "cell_type": "markdown",
   "metadata": {},
   "source": [
    "### <font color='red'> Create an instance of the WikiPathways database using the bioservices package</font>  "
   ]
  },
  {
   "cell_type": "code",
   "execution_count": 3,
   "metadata": {},
   "outputs": [
    {
     "name": "stderr",
     "output_type": "stream",
     "text": [
      "WARNING [bioservices:WikiPathways]:  URL of the services contains a double //.Check your URL and remove trailing /\n"
     ]
    }
   ],
   "source": [
    "__all__ = [\"WikiPathways\"]\n",
    "s = WikiPathways()"
   ]
  },
  {
   "cell_type": "markdown",
   "metadata": {},
   "source": [
    "### <font color='red'>Specify the pathways from WikiPathways that you wish to convert into networks. </font>  \n",
    "Wikipathways entries are specified by Wikipathways ID - you can find this ID in the URL for the pathway of interest.\n",
    "\n",
    "For example, the URL for the Apoptosis (*Homo sapiens*) pathway is https://www.wikipathways.org/index.php/Pathway:WP254 and the Wikipathways ID for this pathway is WP254. The ID begins with 'WP' and is followed by a string of digits.\n"
   ]
  },
  {
   "cell_type": "markdown",
   "metadata": {},
   "source": [
    "Here, we select the Sandbox pathway test https://www.wikipathways.org/index.php/Pathway:WP4 to demonstrate WikiNetworks' functionality.\n",
    "\n",
    "Note that the pathway ID is the first element in a list, and is *not* specified as a string. The user can extend this list to include other pathways to download and process."
   ]
  },
  {
   "cell_type": "code",
   "execution_count": 4,
   "metadata": {},
   "outputs": [],
   "source": [
    "pathID = \"WP4\""
   ]
  },
  {
   "cell_type": "markdown",
   "metadata": {},
   "source": [
    "### <font color='red'>Download and view the curation tags for the pathway of interest</font>   "
   ]
  },
  {
   "cell_type": "markdown",
   "metadata": {},
   "source": [
    "#### <font color='red'> Download a dictionary of curation tags for the selected pathway using the WikiPathways API </font>   "
   ]
  },
  {
   "cell_type": "code",
   "execution_count": 5,
   "metadata": {},
   "outputs": [
    {
     "name": "stdout",
     "output_type": "stream",
     "text": [
      "{'tags': [{'name': 'Curation:Tutorial', 'displayName': 'Test pathway', 'pathway': {'id': 'WP4', 'url': 'https://www.wikipathways.org/index.php/Pathway:WP4', 'name': 'Sandbox pathway test', 'species': 'Homo sapiens', 'revision': '119193'}, 'revision': None, 'text': '', 'timeModified': '20170121205948', 'userModified': 'AlexanderPico'}, {'name': 'Curation:MissingXRef', 'displayName': 'Annotate nodes', 'pathway': {'id': 'WP4', 'url': 'https://www.wikipathways.org/index.php/Pathway:WP4', 'name': 'Sandbox pathway test', 'species': 'Homo sapiens', 'revision': '119193'}, 'revision': None, 'text': '3 out of 14 DataNodes have a missing external reference. Check DataNode table at the bottom of the page.', 'timeModified': '20200727110051', 'userModified': 'MaintBot'}, {'name': 'Curation:NoInteractions', 'displayName': 'Fix interactions', 'pathway': {'id': 'WP4', 'url': 'https://www.wikipathways.org/index.php/Pathway:WP4', 'name': 'Sandbox pathway test', 'species': 'Homo sapiens', 'revision': '119193'}, 'revision': None, 'text': '2 out of 11 lines are not properly connected.', 'timeModified': '20190924090150', 'userModified': 'MaintBot'}]}\n"
     ]
    }
   ],
   "source": [
    "curationTagsDict = getCurationTags(s, pathID)\n",
    "print(curationTagsDict)"
   ]
  },
  {
   "cell_type": "markdown",
   "metadata": {},
   "source": [
    "#### <font color='red'>Print pathway and curation information</font>\n",
    "\n",
    "<font color = 'red'>*Caveat*: </font>We advise users to carefully examine the curation tags. Curation tags usually indicate whether a manual curator found issues in the pathway entry on WikiPathways, and that these errors have not yet been fixed by the pathway creator. While WikiNetworks attempts to automatically find and fix these common errors, we encourage the users of WikiNetworks to go over the output network and double-check interactions. Despite our best efforts, it's possible that the WikiNetworks algorithm does not find or incompletely fixes the pathway issues. This is due to the widely varying drawing styles and quality of the pathways in Wikipathways."
   ]
  },
  {
   "cell_type": "code",
   "execution_count": 6,
   "metadata": {},
   "outputs": [
    {
     "name": "stdout",
     "output_type": "stream",
     "text": [
      "\n",
      "***PATHWAY INFORMATION***\n",
      "\n",
      "Name:  Curation:Tutorial \n",
      "\n",
      "Display Name:  Test pathway \n",
      "\n",
      "id: WP4\n",
      "\n",
      "url: https://www.wikipathways.org/index.php/Pathway:WP4\n",
      "\n",
      "name: Sandbox pathway test\n",
      "\n",
      "species: Homo sapiens\n",
      "\n",
      "revision: 119193\n",
      "\n",
      "\n",
      "***CURATION WARNINGS:***\n",
      "\n",
      "\n",
      "***CURATION TAG 1***\n",
      "\n",
      "Name: Curation:MissingXRef\n",
      "Display Name: Annotate nodes\n",
      "Description: 3 out of 14 DataNodes have a missing external reference. Check DataNode table at the bottom of the page.\n",
      "\n",
      "***CURATION TAG 2***\n",
      "\n",
      "Name: Curation:NoInteractions\n",
      "Display Name: Fix interactions\n",
      "Description: 2 out of 11 lines are not properly connected.\n",
      "*********\n",
      "\n"
     ]
    }
   ],
   "source": [
    "processCurationTags(curationTagsDict)"
   ]
  },
  {
   "cell_type": "markdown",
   "metadata": {},
   "source": [
    "### <font color='red'>Download and process pathways into networks</font> \n",
    "\n",
    "This is the driver function for the WikiNetworks processing algorithm. This function downloads GPML files for the requested pathway(s) from WikiPathways, processes the pathway into a network and attempts to correct drawing errors, and finally outputs the network as:\n",
    "1. a NetworkX digraph object that can be used for downstream programmatic applications, \n",
    "1. a graphml file that can be imported into other simulation, processing or visualization tools such as CasQ, CellNOpt and Cytoscape, and\n",
    "1. a simple interaction format (SIF) file that can be used similarly to the graphml file and is also easily human-readable."
   ]
  },
  {
   "cell_type": "code",
   "execution_count": 7,
   "metadata": {},
   "outputs": [
    {
     "name": "stderr",
     "output_type": "stream",
     "text": [
      "WARNING [bioservices:WikiPathways]:  URL of the services contains a double //.Check your URL and remove trailing /\n"
     ]
    }
   ],
   "source": [
    "graph = runParsePathway(s, pathID)"
   ]
  },
  {
   "cell_type": "markdown",
   "metadata": {},
   "source": [
    "#### <font color='red'>Print basic network statistics</font> \n",
    "\n",
    "Print the number of nodes and edges in the network."
   ]
  },
  {
   "cell_type": "code",
   "execution_count": 8,
   "metadata": {},
   "outputs": [
    {
     "name": "stdout",
     "output_type": "stream",
     "text": [
      "Nodes: 13\n",
      "Edges: 18\n"
     ]
    }
   ],
   "source": [
    "print(\"Nodes:\", len(graph.nodes())) #print number of nodes in the pathway\n",
    "print(\"Edges:\", len(graph.edges())) #print number of edges in the pathway"
   ]
  },
  {
   "cell_type": "markdown",
   "metadata": {},
   "source": [
    "#### <font color='red'>Print the names of the output files </font> "
   ]
  },
  {
   "cell_type": "code",
   "execution_count": 9,
   "metadata": {},
   "outputs": [
    {
     "name": "stdout",
     "output_type": "stream",
     "text": [
      "SIF graph: WP4_edgeList.csv\n",
      "Graphml:  WP4_graph.graphml\n"
     ]
    }
   ],
   "source": [
    "print(\"SIF graph:\", '_'.join([pathID, \"edgeList.csv\"])) #location of the edgelist file. SIF = simple interaction format\n",
    "print(\"Graphml: \", ''.join([pathID, \"_graph.graphml\"])) #location of the graphml file"
   ]
  },
  {
   "cell_type": "markdown",
   "metadata": {},
   "source": [
    "### <font color='red'>Download and process multiple pathways into networks</font>\n",
    "\n",
    "To download and process multiple pathways from WikiPathways, it is straightforward to specify a list of pathways of interest and process them in a loop, as shown below.\n"
   ]
  },
  {
   "cell_type": "code",
   "execution_count": 10,
   "metadata": {},
   "outputs": [
    {
     "name": "stdout",
     "output_type": "stream",
     "text": [
      "\n",
      "***PATHWAY INFORMATION***\n",
      "\n",
      "Name:  Curation:Tutorial \n",
      "\n",
      "Display Name:  Test pathway \n",
      "\n",
      "id: WP4\n",
      "\n",
      "url: https://www.wikipathways.org/index.php/Pathway:WP4\n",
      "\n",
      "name: Sandbox pathway test\n",
      "\n",
      "species: Homo sapiens\n",
      "\n",
      "revision: 119193\n",
      "\n",
      "\n",
      "***CURATION WARNINGS:***\n",
      "\n",
      "\n",
      "***CURATION TAG 1***\n",
      "\n",
      "Name: Curation:MissingXRef\n",
      "Display Name: Annotate nodes\n",
      "Description: 3 out of 14 DataNodes have a missing external reference. Check DataNode table at the bottom of the page.\n",
      "\n",
      "***CURATION TAG 2***\n",
      "\n",
      "Name: Curation:NoInteractions\n",
      "Display Name: Fix interactions\n",
      "Description: 2 out of 11 lines are not properly connected.\n",
      "*********\n",
      "\n"
     ]
    },
    {
     "name": "stderr",
     "output_type": "stream",
     "text": [
      "WARNING [bioservices:WikiPathways]:  URL of the services contains a double //.Check your URL and remove trailing /\n"
     ]
    },
    {
     "name": "stdout",
     "output_type": "stream",
     "text": [
      "Nodes: 13\n",
      "Edges: 18\n",
      "SIF graph: WP4_edgeList.csv\n",
      "Graphml:  WP4_graph.graphml\n",
      "**********\n",
      "\n",
      "\n",
      "***PATHWAY INFORMATION***\n",
      "\n",
      "Name:  Curation:Reactome_Approved \n",
      "\n",
      "Display Name:  Community: Reactome \n",
      "\n",
      "id: WP2727\n",
      "\n",
      "url: https://www.wikipathways.org/index.php/Pathway:WP2727\n",
      "\n",
      "name: Cellular response to hypoxia\n",
      "\n",
      "species: Homo sapiens\n",
      "\n",
      "revision: 114982\n",
      "\n",
      "\n",
      "***CURATION WARNINGS:***\n",
      "\n",
      "\n",
      "***CURATION TAG 1***\n",
      "\n",
      "Name: Curation:NoInteractions\n",
      "Display Name: Fix interactions\n",
      "Description: 20 out of 114 lines are not properly connected.\n",
      "*********\n",
      "\n"
     ]
    },
    {
     "name": "stderr",
     "output_type": "stream",
     "text": [
      "WARNING [bioservices:WikiPathways]:  URL of the services contains a double //.Check your URL and remove trailing /\n"
     ]
    },
    {
     "name": "stdout",
     "output_type": "stream",
     "text": [
      "Nodes: 124\n",
      "Edges: 3121\n",
      "SIF graph: WP2727_edgeList.csv\n",
      "Graphml:  WP2727_graph.graphml\n",
      "**********\n",
      "\n",
      "\n",
      "***PATHWAY INFORMATION***\n",
      "\n",
      "Name:  Curation:AnalysisCollection \n",
      "\n",
      "Display Name:  Approved version \n",
      "\n",
      "id: WP2456\n",
      "\n",
      "url: https://www.wikipathways.org/index.php/Pathway:WP2456\n",
      "\n",
      "name: HIF1A and PPARG regulation of glycolysis\n",
      "\n",
      "species: Homo sapiens\n",
      "\n",
      "revision: 119185\n",
      "\n",
      "\n",
      "***CURATION WARNINGS:***\n",
      "\n",
      "\n",
      "***CURATION TAG 1***\n",
      "\n",
      "Name: Curation:NeedsReference\n",
      "Display Name: Add references\n",
      "Description: \n",
      "\n",
      "***CURATION TAG 2***\n",
      "\n",
      "Name: Curation:NeedsWork\n",
      "Display Name: Needs work\n",
      "Description: \n",
      "*********\n",
      "\n"
     ]
    },
    {
     "name": "stderr",
     "output_type": "stream",
     "text": [
      "WARNING [bioservices:WikiPathways]:  URL of the services contains a double //.Check your URL and remove trailing /\n"
     ]
    },
    {
     "name": "stdout",
     "output_type": "stream",
     "text": [
      "Nodes: 19\n",
      "Edges: 23\n",
      "SIF graph: WP2456_edgeList.csv\n",
      "Graphml:  WP2456_graph.graphml\n",
      "**********\n",
      "\n"
     ]
    }
   ],
   "source": [
    "testPathways = [\"WP4\", \"WP2727\",\"WP2456\"] # Specify the test pathways using the WikiPathways IDs\n",
    "for pathID in testPathways:\n",
    "    curationTagsDict = getCurationTags(s, pathID) # download a dictionary of curation tags for the selected pathway\n",
    "    processCurationTags(curationTagsDict) # print pathway and curation information\n",
    "    graph = runParsePathway(s, pathID) # download and process pathways, generate a NetworkX digraph object\n",
    "    print(\"Nodes:\", len(graph.nodes())) # print number of nodes in the pathway\n",
    "    print(\"Edges:\", len(graph.edges())) # print number of edges in the pathway\n",
    "    print(\"SIF graph:\", '_'.join([pathID, \"edgeList.csv\"])) # location of the edgelist file. SIF = simple interaction format\n",
    "    print(\"Graphml: \", ''.join([pathID, \"_graph.graphml\"])) # location of the graphml file\n",
    "    print(\"**********\\n\")\n"
   ]
  }
 ],
 "metadata": {
  "kernelspec": {
   "display_name": "Python 3",
   "language": "python",
   "name": "python3"
  },
  "language_info": {
   "codemirror_mode": {
    "name": "ipython",
    "version": 3
   },
   "file_extension": ".py",
   "mimetype": "text/x-python",
   "name": "python",
   "nbconvert_exporter": "python",
   "pygments_lexer": "ipython3",
   "version": "3.6.9"
  }
 },
 "nbformat": 4,
 "nbformat_minor": 4
}
